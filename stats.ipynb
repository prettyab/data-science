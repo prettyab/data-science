{
 "cells": [
  {
   "cell_type": "code",
   "execution_count": 2,
   "id": "43eb6f3d",
   "metadata": {},
   "outputs": [
    {
     "name": "stdout",
     "output_type": "stream",
     "text": [
      "mean: 4.888888888888889\n",
      "median: 5.0\n"
     ]
    }
   ],
   "source": [
    "import numpy as np\n",
    "from scipy import stats\n",
    "data=[2,3,4,5,6,7,9,8,0]\n",
    "mean=np.mean(data)\n",
    "median=np.median(data)\n",
    "mode_result=stats.mode(data)\n",
    "print(\"mean:\",mean)\n",
    "print(\"median:\",median)"
   ]
  },
  {
   "cell_type": "code",
   "execution_count": 3,
   "id": "99e3a21c",
   "metadata": {},
   "outputs": [
    {
     "name": "stdout",
     "output_type": "stream",
     "text": [
      "2.254068341376122\n"
     ]
    }
   ],
   "source": [
    "from scipy.stats import circmean\n",
    "print(circmean([0.4,2.4,3.6],high=4,low=2))"
   ]
  },
  {
   "cell_type": "code",
   "execution_count": 9,
   "id": "c8e05982",
   "metadata": {},
   "outputs": [
    {
     "name": "stdout",
     "output_type": "stream",
     "text": [
      "DescribeResult(nobs=5, minmax=(array([3, 0]), array([9, 9])), mean=array([5.6, 4.2]), variance=array([ 5.8, 11.7]), skewness=array([0.40340711, 0.1877351 ]), kurtosis=array([-1.2363258 , -1.02246329]))\n"
     ]
    }
   ],
   "source": [
    "from scipy import stats as st\n",
    "import numpy as np\n",
    "nd=np.array([[4,5],[3,2],[5,5],\\\n",
    "             [7,9],[9,0]])\n",
    "print(st.describe(nd))\n",
    "             "
   ]
  },
  {
   "cell_type": "code",
   "execution_count": 12,
   "id": "0b5466ec",
   "metadata": {},
   "outputs": [
    {
     "name": "stdout",
     "output_type": "stream",
     "text": [
      "ModeResult(mode=array([6, 3], dtype=int64), count=array([2, 2], dtype=int64))\n"
     ]
    }
   ],
   "source": [
    "from scipy import stats as stat\n",
    "import numpy as np\n",
    "a=[[2,3],[4,5],[6,7],\\\n",
    "   [6,6],[3,3],[5,5],\\\n",
    "   [8,9],[7,7]]\n",
    "print(stat.mode(a))\n"
   ]
  },
  {
   "cell_type": "code",
   "execution_count": 13,
   "id": "db9dc758",
   "metadata": {},
   "outputs": [
    {
     "name": "stdout",
     "output_type": "stream",
     "text": [
      "[5.5       -0.j         6.69959347-2.82666927j 0.55040653+3.51033344j\n",
      " 0.55040653-3.51033344j 6.69959347+2.82666927j]\n"
     ]
    }
   ],
   "source": [
    "from scipy.fftpack import fft\n",
    "import numpy as np\n",
    "x=np.array([4.0,2.0,1.0,-3.0,1.5])\n",
    "y=fft(x)\n",
    "print(y)"
   ]
  },
  {
   "cell_type": "code",
   "execution_count": 14,
   "id": "a44615ed",
   "metadata": {},
   "outputs": [
    {
     "name": "stdout",
     "output_type": "stream",
     "text": [
      "[17.-0.j  2.-1.j -5.-0.j  2.+1.j]\n"
     ]
    }
   ],
   "source": [
    "from scipy .fftpack import fft\n",
    "import numpy as np\n",
    "a=np.array([4.0,6.0,2.0,5.0])\n",
    "b=fft(a)\n",
    "print(b)"
   ]
  },
  {
   "cell_type": "code",
   "execution_count": 18,
   "id": "cadc0eea",
   "metadata": {},
   "outputs": [
    {
     "name": "stdout",
     "output_type": "stream",
     "text": [
      "the CDF at a=<scipy.stats._distn_infrastructure.rv_continuous_frozen object at 0x000001DA0E859D10> is 0.9331927987311419\n"
     ]
    }
   ],
   "source": [
    "from scipy.stats import norm\n",
    "mean=0\n",
    "std_dev=1\n",
    "a=norm(loc=mean,scale=std_dev)\n",
    "b=1.5\n",
    "cdf_value=a.cdf(b)\n",
    "print(f'the CDF at a={a} is {cdf_value}')"
   ]
  },
  {
   "cell_type": "code",
   "execution_count": null,
   "id": "43138a2f",
   "metadata": {},
   "outputs": [],
   "source": []
  }
 ],
 "metadata": {
  "kernelspec": {
   "display_name": "Python 3 (ipykernel)",
   "language": "python",
   "name": "python3"
  },
  "language_info": {
   "codemirror_mode": {
    "name": "ipython",
    "version": 3
   },
   "file_extension": ".py",
   "mimetype": "text/x-python",
   "name": "python",
   "nbconvert_exporter": "python",
   "pygments_lexer": "ipython3",
   "version": "3.11.5"
  }
 },
 "nbformat": 4,
 "nbformat_minor": 5
}
