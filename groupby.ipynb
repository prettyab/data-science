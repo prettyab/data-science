{
 "cells": [
  {
   "cell_type": "code",
   "execution_count": 15,
   "id": "bfd88467",
   "metadata": {},
   "outputs": [
    {
     "ename": "TypeError",
     "evalue": "'DataFrame' object is not callable",
     "output_type": "error",
     "traceback": [
      "\u001b[1;31m---------------------------------------------------------------------------\u001b[0m",
      "\u001b[1;31mTypeError\u001b[0m                                 Traceback (most recent call last)",
      "Cell \u001b[1;32mIn[15], line 9\u001b[0m\n\u001b[0;32m      7\u001b[0m df\u001b[38;5;241m=\u001b[39mpd\u001b[38;5;241m.\u001b[39mDataFrame(data)\n\u001b[0;32m      8\u001b[0m numeric_cols\u001b[38;5;241m=\u001b[39mdf\u001b[38;5;241m.\u001b[39mselect_dtypes(include\u001b[38;5;241m=\u001b[39m\u001b[38;5;124m'\u001b[39m\u001b[38;5;124mnumber\u001b[39m\u001b[38;5;124m'\u001b[39m)\n\u001b[1;32m----> 9\u001b[0m result\u001b[38;5;241m=\u001b[39mnumeric_cols\u001b[38;5;241m.\u001b[39mgroupby(df([\u001b[38;5;124m\"\u001b[39m\u001b[38;5;124mcar\u001b[39m\u001b[38;5;124m\"\u001b[39m])\u001b[38;5;241m.\u001b[39mmean())\n\u001b[0;32m     10\u001b[0m result\n",
      "\u001b[1;31mTypeError\u001b[0m: 'DataFrame' object is not callable"
     ]
    }
   ],
   "source": [
    "import pandas as pd\n",
    "data={\n",
    "    'CO2':[95,90,99,104,105,94,99,104],\n",
    "    'model':['Citigo','Fabia','Fiesta','Rapid','Focus','Mondeo','Octavia','B-max'],\n",
    "    'car':['Skoda','Skoda','Ford','Skoda','Ford','Ford','Skoda','Ford']\n",
    "}\n",
    "df=pd.DataFrame(data)\n",
    "numeric_cols=df.select_dtypes(include='number')\n",
    "result=numeric_cols.groupby(df([\"car\"]).mean())\n",
    "result"
   ]
  },
  {
   "cell_type": "code",
   "execution_count": 16,
   "id": "f35007b2",
   "metadata": {},
   "outputs": [
    {
     "name": "stdout",
     "output_type": "stream",
     "text": [
      "         CO2\n",
      "car         \n",
      "Ford   100.5\n",
      "Skoda   97.0\n"
     ]
    }
   ],
   "source": [
    "import pandas as pd\n",
    "\n",
    "data = {\n",
    "    'CO2': [95, 90, 99, 104, 105, 94, 99, 104],\n",
    "    'model': ['Citigo', 'Fabia', 'Fiesta', 'Rapid', 'Focus', 'Mondeo', 'Octavia', 'B-max'],\n",
    "    'car': ['Skoda', 'Skoda', 'Ford', 'Skoda', 'Ford', 'Ford', 'Skoda', 'Ford']\n",
    "}\n",
    "df = pd.DataFrame(data)\n",
    "numeric_cols = df.select_dtypes(include='number')\n",
    "result = numeric_cols.groupby(df[\"car\"]).mean()\n",
    "\n",
    "print(result)\n"
   ]
  },
  {
   "cell_type": "code",
   "execution_count": 19,
   "id": "d3de3a65",
   "metadata": {},
   "outputs": [
    {
     "name": "stdout",
     "output_type": "stream",
     "text": [
      "total sales by company\n"
     ]
    },
    {
     "data": {
      "text/plain": [
       "Company\n",
       "FB      593\n",
       "GOOG    300\n",
       "MSFT    464\n",
       "Name: Sales, dtype: int64"
      ]
     },
     "execution_count": 19,
     "metadata": {},
     "output_type": "execute_result"
    }
   ],
   "source": [
    "data={\n",
    "    'Company':['GOOG','GOOG','MSFT','MSFT','FB','FB'],\n",
    "    'Person':['Sam','Charlie','Ansu','Vanessa','Carl','Sarah'],\n",
    "    'Sales':[200,100,340,124,243,350]\n",
    "    \n",
    "}\n",
    "df=pd.DataFrame(data)\n",
    "total_sales=df.groupby('Company')['Sales'].sum()\n",
    "print(\"total sales by company\")\n",
    "total_sales\n"
   ]
  },
  {
   "cell_type": "code",
   "execution_count": 21,
   "id": "25fceaac",
   "metadata": {},
   "outputs": [
    {
     "name": "stdout",
     "output_type": "stream",
     "text": [
      "salespeople with sales>200:\n"
     ]
    },
    {
     "data": {
      "text/html": [
       "<div>\n",
       "<style scoped>\n",
       "    .dataframe tbody tr th:only-of-type {\n",
       "        vertical-align: middle;\n",
       "    }\n",
       "\n",
       "    .dataframe tbody tr th {\n",
       "        vertical-align: top;\n",
       "    }\n",
       "\n",
       "    .dataframe thead th {\n",
       "        text-align: right;\n",
       "    }\n",
       "</style>\n",
       "<table border=\"1\" class=\"dataframe\">\n",
       "  <thead>\n",
       "    <tr style=\"text-align: right;\">\n",
       "      <th></th>\n",
       "      <th>Company</th>\n",
       "      <th>Person</th>\n",
       "      <th>Sales</th>\n",
       "    </tr>\n",
       "  </thead>\n",
       "  <tbody>\n",
       "    <tr>\n",
       "      <th>2</th>\n",
       "      <td>MSFT</td>\n",
       "      <td>Ansu</td>\n",
       "      <td>340</td>\n",
       "    </tr>\n",
       "    <tr>\n",
       "      <th>4</th>\n",
       "      <td>FB</td>\n",
       "      <td>Carl</td>\n",
       "      <td>243</td>\n",
       "    </tr>\n",
       "    <tr>\n",
       "      <th>5</th>\n",
       "      <td>FB</td>\n",
       "      <td>Sarah</td>\n",
       "      <td>350</td>\n",
       "    </tr>\n",
       "  </tbody>\n",
       "</table>\n",
       "</div>"
      ],
      "text/plain": [
       "  Company Person  Sales\n",
       "2    MSFT   Ansu    340\n",
       "4      FB   Carl    243\n",
       "5      FB  Sarah    350"
      ]
     },
     "execution_count": 21,
     "metadata": {},
     "output_type": "execute_result"
    }
   ],
   "source": [
    "high_salespeople=df[df['Sales']>200]\n",
    "print(\"salespeople with sales>200:\")\n",
    "high_salespeople"
   ]
  },
  {
   "cell_type": "code",
   "execution_count": 24,
   "id": "a7edac86",
   "metadata": {},
   "outputs": [
    {
     "name": "stdout",
     "output_type": "stream",
     "text": [
      "Sorted DataFrame by Sales:\n",
      "  Company   Person  Sales\n",
      "5      FB    Sarah    350\n",
      "2    MSFT     Ansu    340\n",
      "4      FB     Carl    243\n",
      "0    GOOG      Sam    200\n",
      "3    MSFT  Vanessa    124\n",
      "1    GOOG  Charlie    100\n"
     ]
    }
   ],
   "source": [
    "sorted_df = df.sort_values(by='Sales', ascending=False)\n",
    "print(\"Sorted DataFrame by Sales:\")\n",
    "print(sorted_df)\n"
   ]
  },
  {
   "cell_type": "code",
   "execution_count": null,
   "id": "92d0368d",
   "metadata": {},
   "outputs": [],
   "source": []
  }
 ],
 "metadata": {
  "kernelspec": {
   "display_name": "Python 3 (ipykernel)",
   "language": "python",
   "name": "python3"
  },
  "language_info": {
   "codemirror_mode": {
    "name": "ipython",
    "version": 3
   },
   "file_extension": ".py",
   "mimetype": "text/x-python",
   "name": "python",
   "nbconvert_exporter": "python",
   "pygments_lexer": "ipython3",
   "version": "3.11.5"
  }
 },
 "nbformat": 4,
 "nbformat_minor": 5
}
