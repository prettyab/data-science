{
 "cells": [
  {
   "cell_type": "code",
   "execution_count": 4,
   "id": "13b5f36b",
   "metadata": {},
   "outputs": [
    {
     "name": "stdout",
     "output_type": "stream",
     "text": [
      "[1.4 2.2]\n"
     ]
    }
   ],
   "source": [
    "import numpy as np\n",
    "from scipy.linalg import solve\n",
    "A=np.array([[2,1],[1,3]])\n",
    "b=np.array([5,8])\n",
    "x=solve(A,b)\n",
    "print(x)"
   ]
  },
  {
   "cell_type": "code",
   "execution_count": 5,
   "id": "7087ecad",
   "metadata": {},
   "outputs": [
    {
     "name": "stdout",
     "output_type": "stream",
     "text": [
      "eiganvalues: [-0.27491722+0.j  7.27491722+0.j]\n",
      "eiganvectors: [[-0.79681209 -0.49436913]\n",
      " [ 0.60422718 -0.86925207]]\n"
     ]
    }
   ],
   "source": [
    "from scipy.linalg import eig\n",
    "A=np.array([[2,3],[4,5]])\n",
    "eiganvalues,eiganvectors=eig(A)\n",
    "print(\"eiganvalues:\",eiganvalues)\n",
    "print(\"eiganvectors:\",eiganvectors)"
   ]
  },
  {
   "cell_type": "code",
   "execution_count": 6,
   "id": "a3257554",
   "metadata": {},
   "outputs": [
    {
     "name": "stdout",
     "output_type": "stream",
     "text": [
      "Inverse of A: [[ 0.6 -0.2]\n",
      " [-0.2  0.4]]\n"
     ]
    }
   ],
   "source": [
    "from scipy.linalg import inv\n",
    "\n",
    "A = np.array([[2, 1], [1, 3]])\n",
    "A_inv = inv(A)\n",
    "\n",
    "print(\"Inverse of A:\", A_inv)"
   ]
  },
  {
   "cell_type": "code",
   "execution_count": null,
   "id": "9d7d53cc",
   "metadata": {},
   "outputs": [],
   "source": []
  }
 ],
 "metadata": {
  "kernelspec": {
   "display_name": "Python 3 (ipykernel)",
   "language": "python",
   "name": "python3"
  },
  "language_info": {
   "codemirror_mode": {
    "name": "ipython",
    "version": 3
   },
   "file_extension": ".py",
   "mimetype": "text/x-python",
   "name": "python",
   "nbconvert_exporter": "python",
   "pygments_lexer": "ipython3",
   "version": "3.11.5"
  }
 },
 "nbformat": 4,
 "nbformat_minor": 5
}
