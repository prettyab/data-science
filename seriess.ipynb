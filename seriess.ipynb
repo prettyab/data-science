{
 "cells": [
  {
   "cell_type": "code",
   "execution_count": 2,
   "id": "f4ccf6db",
   "metadata": {},
   "outputs": [
    {
     "data": {
      "text/plain": [
       "0    a\n",
       "1    g\n",
       "2    h\n",
       "3    k\n",
       "4    i\n",
       "5    o\n",
       "6    r\n",
       "dtype: object"
      ]
     },
     "execution_count": 2,
     "metadata": {},
     "output_type": "execute_result"
    }
   ],
   "source": [
    "import pandas as pd\n",
    "import numpy as np\n",
    "data=np.array(['a','g','h','k','i','o','r'])\n",
    "ser=pd.Series(data)\n",
    "ser"
   ]
  },
  {
   "cell_type": "code",
   "execution_count": 3,
   "id": "e199e245",
   "metadata": {},
   "outputs": [
    {
     "data": {
      "text/plain": [
       "0    o\n",
       "1    p\n",
       "2    r\n",
       "3    t\n",
       "4    e\n",
       "dtype: object"
      ]
     },
     "execution_count": 3,
     "metadata": {},
     "output_type": "execute_result"
    }
   ],
   "source": [
    "list=(['o','p','r','t','e'])\n",
    "ser=pd.Series(list)\n",
    "ser"
   ]
  },
  {
   "cell_type": "code",
   "execution_count": 11,
   "id": "577f93ea",
   "metadata": {},
   "outputs": [
    {
     "data": {
      "text/plain": [
       "q    1.0\n",
       "w    2.0\n",
       "e    3.0\n",
       "r    4.0\n",
       "dtype: float64"
      ]
     },
     "execution_count": 11,
     "metadata": {},
     "output_type": "execute_result"
    }
   ],
   "source": [
    "data={'q':1.,'w':2.,'e':3.,'r':4.}\n",
    "s=pd.Series(data)\n",
    "s"
   ]
  },
  {
   "cell_type": "code",
   "execution_count": 12,
   "id": "d65a270b",
   "metadata": {},
   "outputs": [
    {
     "data": {
      "text/plain": [
       "0    a\n",
       "1    b\n",
       "2    v\n",
       "3    b\n",
       "4    n\n",
       "dtype: object"
      ]
     },
     "execution_count": 12,
     "metadata": {},
     "output_type": "execute_result"
    }
   ],
   "source": [
    "data=np.array(['a','b','v','b','n','m','r','y','i','p'])\n",
    "s=pd.Series(data)\n",
    "s[:5]"
   ]
  },
  {
   "cell_type": "code",
   "execution_count": 14,
   "id": "a22bc352",
   "metadata": {},
   "outputs": [
    {
     "data": {
      "text/plain": [
       "2    4\n",
       "3    5\n",
       "4    6\n",
       "5    7\n",
       "6    8\n",
       "7    9\n",
       "dtype: int32"
      ]
     },
     "execution_count": 14,
     "metadata": {},
     "output_type": "execute_result"
    }
   ],
   "source": [
    "data=np.array([1,2,4,5,6,7,8,9,0,12,34,56])\n",
    "s=pd.Series(data)\n",
    "s[2:8]"
   ]
  },
  {
   "cell_type": "code",
   "execution_count": 15,
   "id": "59042d62",
   "metadata": {},
   "outputs": [
    {
     "data": {
      "text/plain": [
       "6      8\n",
       "7      9\n",
       "8      0\n",
       "9     12\n",
       "10    34\n",
       "11    56\n",
       "dtype: int32"
      ]
     },
     "execution_count": 15,
     "metadata": {},
     "output_type": "execute_result"
    }
   ],
   "source": [
    "data=np.array([1,2,4,5,6,7,8,9,0,12,34,56])\n",
    "s=pd.Series(data)\n",
    "s[6:]"
   ]
  },
  {
   "cell_type": "code",
   "execution_count": 17,
   "id": "62b0b373",
   "metadata": {},
   "outputs": [
    {
     "data": {
      "text/plain": [
       "'y'"
      ]
     },
     "execution_count": 17,
     "metadata": {},
     "output_type": "execute_result"
    }
   ],
   "source": [
    "data=(['a','s','f','g','h','j','k','l','e','r','t','y','u','i','o','p'])\n",
    "s=pd.Series(data,index=[0,1,2,3,4,5,6,7,8,9,10,11,12,13,14,15])\n",
    "s[11]"
   ]
  },
  {
   "cell_type": "code",
   "execution_count": 20,
   "id": "df79cd6f",
   "metadata": {},
   "outputs": [
    {
     "data": {
      "text/plain": [
       "'d'"
      ]
     },
     "execution_count": 20,
     "metadata": {},
     "output_type": "execute_result"
    }
   ],
   "source": [
    "data=(['a','s','d','f','g'])\n",
    "s=pd.Series(data,index=[1,2,3,4,5])\n",
    "s[3]"
   ]
  },
  {
   "cell_type": "code",
   "execution_count": 24,
   "id": "dc4688d6",
   "metadata": {},
   "outputs": [
    {
     "data": {
      "text/plain": [
       "0    rgb(100,100,100)\n",
       "1       rgb(75,75,75)\n",
       "2       rgb(50,50,50)\n",
       "3          rgb(0,0,0)\n",
       "4        rgb(100,0,0)\n",
       "Name: RGB, dtype: object"
      ]
     },
     "execution_count": 24,
     "metadata": {},
     "output_type": "execute_result"
    }
   ],
   "source": [
    "df=pd.read_csv(\"C:/Users/DELL/Downloads/color_srgb.csv\")\n",
    "s=pd.Series(df['RGB'])\n",
    "data=s.head(5)\n",
    "data"
   ]
  },
  {
   "cell_type": "code",
   "execution_count": 25,
   "id": "d03138dd",
   "metadata": {},
   "outputs": [
    {
     "data": {
      "text/plain": [
       "0    rgb(100,100,100)\n",
       "1       rgb(75,75,75)\n",
       "2       rgb(50,50,50)\n",
       "3          rgb(0,0,0)\n",
       "4        rgb(100,0,0)\n",
       "5         rgb(50,0,0)\n",
       "6      rgb(100,100,0)\n",
       "7        rgb(50,50,0)\n",
       "8        rgb(0,100,0)\n",
       "9         rgb(0,50,0)\n",
       "Name: RGB, dtype: object"
      ]
     },
     "execution_count": 25,
     "metadata": {},
     "output_type": "execute_result"
    }
   ],
   "source": [
    "df=pd.read_csv(\"C:/Users/DELL/Downloads/color_srgb.csv\")\n",
    "s=pd.Series(df['RGB'])\n",
    "data=s.head(10)\n",
    "data\n"
   ]
  },
  {
   "cell_type": "code",
   "execution_count": null,
   "id": "7e003b7a",
   "metadata": {},
   "outputs": [],
   "source": []
  }
 ],
 "metadata": {
  "kernelspec": {
   "display_name": "Python 3 (ipykernel)",
   "language": "python",
   "name": "python3"
  },
  "language_info": {
   "codemirror_mode": {
    "name": "ipython",
    "version": 3
   },
   "file_extension": ".py",
   "mimetype": "text/x-python",
   "name": "python",
   "nbconvert_exporter": "python",
   "pygments_lexer": "ipython3",
   "version": "3.11.5"
  }
 },
 "nbformat": 4,
 "nbformat_minor": 5
}
