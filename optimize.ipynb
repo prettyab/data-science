{
 "cells": [
  {
   "cell_type": "code",
   "execution_count": 6,
   "id": "e04ea17f",
   "metadata": {},
   "outputs": [
    {
     "name": "stdout",
     "output_type": "stream",
     "text": [
      "Optimal values: [-1.63638278e-05  9.38032732e-06  4.46415163e-05]\n",
      "Optimal function value: 2.3486303745563443e-09\n"
     ]
    }
   ],
   "source": [
    "import numpy as np\n",
    "from scipy.optimize import minimize\n",
    "\n",
    "def demo_fns(x):\n",
    "    return x[0]**2 + x[1]**2 + x[2]**2\n",
    "\n",
    "initial_guess = np.array([1.0, 2.0, -1.0])\n",
    "\n",
    "result = minimize(demo_fns, initial_guess, method='Nelder-Mead')\n",
    "\n",
    "print(\"Optimal values:\", result.x)\n",
    "print(\"Optimal function value:\", result.fun)\n"
   ]
  },
  {
   "cell_type": "code",
   "execution_count": 7,
   "id": "89659e9d",
   "metadata": {},
   "outputs": [
    {
     "name": "stdout",
     "output_type": "stream",
     "text": [
      "optimal values: [-1.63638278e-05  9.38032732e-06  4.46415163e-05]\n",
      "optimal function value: 2.3486303745563443e-09\n"
     ]
    }
   ],
   "source": [
    "def dude_fns(x):\n",
    "    return (x[0]-2)**2+(x[1]-1)**2+(x[2])**2\n",
    "initial_guess=np.array([5.0,-3.0,2.0])\n",
    "dude_result=minimize(dude_fns,initial_guess,method='Nelder-Mead')\n",
    "print(\"optimal values:\",result.x)\n",
    "print(\"optimal function value:\",result.fun)\n"
   ]
  },
  {
   "cell_type": "code",
   "execution_count": null,
   "id": "f2e317e1",
   "metadata": {},
   "outputs": [],
   "source": []
  }
 ],
 "metadata": {
  "kernelspec": {
   "display_name": "Python 3 (ipykernel)",
   "language": "python",
   "name": "python3"
  },
  "language_info": {
   "codemirror_mode": {
    "name": "ipython",
    "version": 3
   },
   "file_extension": ".py",
   "mimetype": "text/x-python",
   "name": "python",
   "nbconvert_exporter": "python",
   "pygments_lexer": "ipython3",
   "version": "3.11.5"
  }
 },
 "nbformat": 4,
 "nbformat_minor": 5
}
