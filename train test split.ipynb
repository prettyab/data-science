{
 "cells": [
  {
   "cell_type": "code",
   "execution_count": 1,
   "id": "34284e91",
   "metadata": {},
   "outputs": [
    {
     "name": "stdout",
     "output_type": "stream",
     "text": [
      "   Head Size(cm^3)  Brain Weight(grams)\n",
      "0             4512                 1530\n",
      "1             3738                 1297\n",
      "2             4261                 1335\n",
      "3             3777                 1282\n",
      "4             4177                 1590\n",
      "X_train : \n",
      "99     3478\n",
      "52     4270\n",
      "184    3479\n",
      "139    3171\n",
      "107    3399\n",
      "Name: Head Size(cm^3), dtype: int64\n",
      "\n",
      "X_test : \n",
      "66     3415\n",
      "113    3594\n",
      "135    3436\n",
      "227    4204\n",
      "68     4430\n",
      "Name: Head Size(cm^3), dtype: int64\n",
      "\n",
      "y_train : \n"
     ]
    },
    {
     "ename": "NameError",
     "evalue": "name 'y_train' is not defined",
     "output_type": "error",
     "traceback": [
      "\u001b[1;31m---------------------------------------------------------------------------\u001b[0m",
      "\u001b[1;31mNameError\u001b[0m                                 Traceback (most recent call last)",
      "Cell \u001b[1;32mIn[1], line 19\u001b[0m\n\u001b[0;32m     17\u001b[0m \u001b[38;5;28mprint\u001b[39m(\u001b[38;5;124m'\u001b[39m\u001b[38;5;124m'\u001b[39m) \n\u001b[0;32m     18\u001b[0m \u001b[38;5;28mprint\u001b[39m(\u001b[38;5;124m'\u001b[39m\u001b[38;5;124my_train : \u001b[39m\u001b[38;5;124m'\u001b[39m) \n\u001b[1;32m---> 19\u001b[0m \u001b[38;5;28mprint\u001b[39m(y_train\u001b[38;5;241m.\u001b[39mhead()) \n\u001b[0;32m     20\u001b[0m \u001b[38;5;28mprint\u001b[39m(\u001b[38;5;124m'\u001b[39m\u001b[38;5;124m'\u001b[39m) \n\u001b[0;32m     21\u001b[0m \u001b[38;5;28mprint\u001b[39m(\u001b[38;5;124m'\u001b[39m\u001b[38;5;124my_test : \u001b[39m\u001b[38;5;124m'\u001b[39m) \n",
      "\u001b[1;31mNameError\u001b[0m: name 'y_train' is not defined"
     ]
    }
   ],
   "source": [
    "import numpy as np\n",
    "import pandas as pd\n",
    "from sklearn.model_selection import train_test_split \n",
    "df=pd.read_csv(\"C:/Users/DELL/Downloads/headbrain1.csv\")\n",
    "print(df.head())\n",
    "X= df['Head Size(cm^3)'] \n",
    "y=df['Brain Weight(grams)'] \n",
    "X_train,X_test,Y_train,Y_test=train_test_split(X,y , \n",
    "                                   random_state=104,  \n",
    "                                   test_size=0.25,  \n",
    "                                   shuffle=True) \n",
    "print('X_train : ') \n",
    "print(X_train.head()) \n",
    "print('') \n",
    "print('X_test : ') \n",
    "print(X_test.head()) \n",
    "print('') \n",
    "print('y_train : ') \n",
    "print(y_train.head()) \n",
    "print('') \n",
    "print('y_test : ') \n",
    "print(y_test.head())\n"
   ]
  },
  {
   "cell_type": "code",
   "execution_count": null,
   "id": "92683eb8",
   "metadata": {},
   "outputs": [],
   "source": []
  }
 ],
 "metadata": {
  "kernelspec": {
   "display_name": "Python 3 (ipykernel)",
   "language": "python",
   "name": "python3"
  },
  "language_info": {
   "codemirror_mode": {
    "name": "ipython",
    "version": 3
   },
   "file_extension": ".py",
   "mimetype": "text/x-python",
   "name": "python",
   "nbconvert_exporter": "python",
   "pygments_lexer": "ipython3",
   "version": "3.11.5"
  }
 },
 "nbformat": 4,
 "nbformat_minor": 5
}
