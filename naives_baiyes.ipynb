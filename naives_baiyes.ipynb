{
 "cells": [
  {
   "cell_type": "code",
   "execution_count": 15,
   "id": "240dad50",
   "metadata": {},
   "outputs": [],
   "source": [
    "from sklearn.feature_extraction.text import CountVectorizer\n",
    "from sklearn.naive_bayes import MultinomialNB\n",
    "from sklearn.model_selection import train_test_split\n",
    "from sklearn.model_selection import train_test_split\n",
    "from sklearn.metrics import accuracy_score,classification_report"
   ]
  },
  {
   "cell_type": "code",
   "execution_count": 16,
   "id": "aa0f2f44",
   "metadata": {},
   "outputs": [
    {
     "ename": "NameError",
     "evalue": "name 'vectorizer_fit_transform' is not defined",
     "output_type": "error",
     "traceback": [
      "\u001b[1;31m---------------------------------------------------------------------------\u001b[0m",
      "\u001b[1;31mNameError\u001b[0m                                 Traceback (most recent call last)",
      "Cell \u001b[1;32mIn[16], line 11\u001b[0m\n\u001b[0;32m      9\u001b[0m X_train,X_test,y_train,y_test\u001b[38;5;241m=\u001b[39mtrain_test_split(documents,labels,test_size\u001b[38;5;241m=\u001b[39m\u001b[38;5;241m0.2\u001b[39m,random_state\u001b[38;5;241m=\u001b[39m\u001b[38;5;241m42\u001b[39m)\n\u001b[0;32m     10\u001b[0m vectorizer\u001b[38;5;241m=\u001b[39mCountVectorizer()\n\u001b[1;32m---> 11\u001b[0m X_train_vectorized\u001b[38;5;241m=\u001b[39mvectorizer_fit_transform(X_train)\n\u001b[0;32m     12\u001b[0m X_test_vectorized\u001b[38;5;241m=\u001b[39mvectorizer\u001b[38;5;241m.\u001b[39mtransform(X_test)\n\u001b[0;32m     13\u001b[0m classifier\u001b[38;5;241m=\u001b[39mMultinomialNB()\n",
      "\u001b[1;31mNameError\u001b[0m: name 'vectorizer_fit_transform' is not defined"
     ]
    }
   ],
   "source": [
    "documents=[\n",
    "    \"great,great,great\",\n",
    "    \"awesome,awesome,good\",\n",
    "    \"good,okay\",\n",
    "    \"bad,bad,okay\"\n",
    "]\n",
    "labels=[\n",
    "    \"Positive\",\"Positive\",\"Positive\",\"Negative\"]\n",
    "X_train,X_test,y_train,y_test=train_test_split(documents,labels,test_size=0.2,random_state=42)\n",
    "vectorizer=CountVectorizer()\n",
    "X_train_vectorized=vectorizer_fit_transform(X_train)\n",
    "X_test_vectorized=vectorizer.transform(X_test)\n",
    "classifier=MultinomialNB()\n",
    "classifier.fit(X_train_vectorized,y_train)\n",
    "predictions=classifier.predict(X_test_vectorized)\n",
    "accuracy=accuracy_score(y_test,predictions)\n",
    "report=classification_report(y_test,predictions)\n",
    "print(\"Accuracy:\",accuracy)\n",
    "print(\"Classification Report:\\n\",report)"
   ]
  },
  {
   "cell_type": "code",
   "execution_count": 13,
   "id": "54eadb19",
   "metadata": {},
   "outputs": [
    {
     "name": "stdout",
     "output_type": "stream",
     "text": [
      "Accuracy: 1.0\n",
      "Classification Report:\n",
      "               precision    recall  f1-score   support\n",
      "\n",
      "    Positive       1.00      1.00      1.00         1\n",
      "\n",
      "    accuracy                           1.00         1\n",
      "   macro avg       1.00      1.00      1.00         1\n",
      "weighted avg       1.00      1.00      1.00         1\n",
      "\n"
     ]
    }
   ],
   "source": [
    "from sklearn.model_selection import train_test_split\n",
    "from sklearn.feature_extraction.text import CountVectorizer\n",
    "from sklearn.naive_bayes import MultinomialNB\n",
    "from sklearn.metrics import accuracy_score, classification_report\n",
    "\n",
    "documents = [\n",
    "    \"great, great, great\",\n",
    "    \"awesome, awesome, good\",  # Added a comma here to separate the strings\n",
    "    \"good, okay\",\n",
    "    \"bad, bad, okay\"\n",
    "]\n",
    "\n",
    "labels = [\"Positive\", \"Positive\", \"Positive\", \"Negative\"]\n",
    "\n",
    "X_train, X_test, y_train, y_test = train_test_split(documents, labels, test_size=0.2, random_state=42)\n",
    "\n",
    "# Fix the typo in the following lines\n",
    "vectorizer = CountVectorizer()\n",
    "X_train_vectorized = vectorizer.fit_transform(X_train)  # Corrected the method name\n",
    "X_test_vectorized = vectorizer.transform(X_test)  # Corrected the method name\n",
    "\n",
    "classifier = MultinomialNB()\n",
    "classifier.fit(X_train_vectorized, y_train)\n",
    "predictions = classifier.predict(X_test_vectorized)\n",
    "\n",
    "accuracy = accuracy_score(y_test, predictions)\n",
    "report = classification_report(y_test, predictions)\n",
    "\n",
    "print(\"Accuracy:\", accuracy)\n",
    "print(\"Classification Report:\\n\", report)\n"
   ]
  },
  {
   "cell_type": "code",
   "execution_count": null,
   "id": "df1e3828",
   "metadata": {},
   "outputs": [],
   "source": []
  }
 ],
 "metadata": {
  "kernelspec": {
   "display_name": "Python 3 (ipykernel)",
   "language": "python",
   "name": "python3"
  },
  "language_info": {
   "codemirror_mode": {
    "name": "ipython",
    "version": 3
   },
   "file_extension": ".py",
   "mimetype": "text/x-python",
   "name": "python",
   "nbconvert_exporter": "python",
   "pygments_lexer": "ipython3",
   "version": "3.11.5"
  }
 },
 "nbformat": 4,
 "nbformat_minor": 5
}
