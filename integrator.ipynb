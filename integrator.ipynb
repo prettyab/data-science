{
 "cells": [
  {
   "cell_type": "code",
   "execution_count": 4,
   "id": "9abada8b",
   "metadata": {},
   "outputs": [
    {
     "data": {
      "text/plain": [
       "(0.7468241328124271, 8.291413475940725e-15)"
      ]
     },
     "execution_count": 4,
     "metadata": {},
     "output_type": "execute_result"
    }
   ],
   "source": [
    "import scipy.integrate\n",
    "\n",
    "from numpy import exp\n",
    "\n",
    "\n",
    "f= lambda x:exp(-x**2)\n",
    "i = scipy.integrate.quad(f, 0, 1)\n",
    "i"
   ]
  },
  {
   "cell_type": "code",
   "execution_count": 11,
   "id": "3a0e5716",
   "metadata": {},
   "outputs": [
    {
     "data": {
      "text/plain": [
       "(0.9999999999999999, 1.1102230246251564e-14)"
      ]
     },
     "execution_count": 11,
     "metadata": {},
     "output_type": "execute_result"
    }
   ],
   "source": [
    "from numpy import sin,pi\n",
    "f=lambda x:sin(x)\n",
    "i=scipy.integrate.quad(f,0,pi/2)\n",
    "i"
   ]
  },
  {
   "cell_type": "markdown",
   "id": "7e2de204",
   "metadata": {},
   "source": [
    "from numpy import exp\n",
    "from math import sqrt\n",
    "f=lambda x,y :16*x*y\n",
    "g=lambda x:0\n",
    "h=lambda y:sqrt(1-4*y**2)\n",
    "i=scipy.integrate.dblquad(f,0,0.5,g,h)\n",
    "i"
   ]
  },
  {
   "cell_type": "code",
   "execution_count": 8,
   "id": "7bd338a9",
   "metadata": {},
   "outputs": [
    {
     "name": "stdout",
     "output_type": "stream",
     "text": [
      "The result of the double integration is: 0.462940967683736\n",
      "Estimated error: 3.125033010142886e-10\n"
     ]
    }
   ],
   "source": [
    "import scipy.integrate\n",
    "from numpy import exp,pi,sqrt,cos\n",
    "f=lambda x,y:exp(-x)*cos(y)\n",
    "x_lowerlimit=0\n",
    "x_upperlimit=1\n",
    "y_lowerlimit=lambda x:0\n",
    "y_upperlimit=lambda x:sqrt(1-x**2)\n",
    "result,error=scipy.integrate.dblquad(f,x_lowerlimit,x_upperlimit,y_lowerlimit,y_upperlimit)\n",
    "print(\"The result of the double integration is:\", result)\n",
    "print(\"Estimated error:\", error)"
   ]
  },
  {
   "cell_type": "code",
   "execution_count": 2,
   "id": "947d2472",
   "metadata": {},
   "outputs": [
    {
     "name": "stdout",
     "output_type": "stream",
     "text": [
      "0.21460183660255167\n",
      "2.767908379408039e-15\n"
     ]
    }
   ],
   "source": [
    "import scipy.integrate\n",
    "from numpy import sin, cos, pi\n",
    "f = lambda x, y: sin(x) * cos(y)\n",
    "x_lower_limit = 0\n",
    "x_upper_limit = pi/2\n",
    "y_lower_limit = lambda x: 0\n",
    "y_upper_limit = lambda x: x\n",
    "i,k = scipy.integrate.dblquad(f, x_lower_limit, x_upper_limit, y_lower_limit, y_upper_limit)\n",
    "print(i)\n",
    "print(k)"
   ]
  },
  {
   "cell_type": "code",
   "execution_count": null,
   "id": "e95af21f",
   "metadata": {},
   "outputs": [],
   "source": [
    "\n"
   ]
  }
 ],
 "metadata": {
  "kernelspec": {
   "display_name": "Python 3 (ipykernel)",
   "language": "python",
   "name": "python3"
  },
  "language_info": {
   "codemirror_mode": {
    "name": "ipython",
    "version": 3
   },
   "file_extension": ".py",
   "mimetype": "text/x-python",
   "name": "python",
   "nbconvert_exporter": "python",
   "pygments_lexer": "ipython3",
   "version": "3.11.5"
  }
 },
 "nbformat": 4,
 "nbformat_minor": 5
}
