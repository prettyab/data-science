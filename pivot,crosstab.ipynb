{
 "cells": [
  {
   "cell_type": "code",
   "execution_count": 8,
   "id": "f7b4c409",
   "metadata": {},
   "outputs": [
    {
     "name": "stdout",
     "output_type": "stream",
     "text": [
      "Subject  Math  Science\n",
      "Name                  \n",
      "Alice    80.0     90.0\n",
      "Bob      56.0     88.0\n",
      "Charli    NaN     92.0\n",
      "Charlie  78.0      NaN\n"
     ]
    }
   ],
   "source": [
    "import pandas as pd\n",
    "data={'Name':['Alice','Bob','Charlie','Alice','Bob','Charli'],\n",
    "     'Subject':['Math','Math','Math','Science','Science','Science'],\n",
    "      'Score':[80,56,78,90,88,92]\n",
    "     }\n",
    "df=pd.DataFrame(data)\n",
    "pivot_df=df.pivot(index='Name',columns='Subject',values='Score')\n",
    "print(pivot_df)"
   ]
  },
  {
   "cell_type": "code",
   "execution_count": 11,
   "id": "a53d8c46",
   "metadata": {},
   "outputs": [
    {
     "ename": "AttributeError",
     "evalue": "module 'pandas' has no attribute 'cross_tab'",
     "output_type": "error",
     "traceback": [
      "\u001b[1;31m---------------------------------------------------------------------------\u001b[0m",
      "\u001b[1;31mAttributeError\u001b[0m                            Traceback (most recent call last)",
      "Cell \u001b[1;32mIn[11], line 8\u001b[0m\n\u001b[0;32m      3\u001b[0m data \u001b[38;5;241m=\u001b[39m {\u001b[38;5;124m'\u001b[39m\u001b[38;5;124mName\u001b[39m\u001b[38;5;124m'\u001b[39m: [\u001b[38;5;124m'\u001b[39m\u001b[38;5;124mAlice\u001b[39m\u001b[38;5;124m'\u001b[39m, \u001b[38;5;124m'\u001b[39m\u001b[38;5;124mBob\u001b[39m\u001b[38;5;124m'\u001b[39m, \u001b[38;5;124m'\u001b[39m\u001b[38;5;124mCharlie\u001b[39m\u001b[38;5;124m'\u001b[39m, \u001b[38;5;124m'\u001b[39m\u001b[38;5;124mAlice\u001b[39m\u001b[38;5;124m'\u001b[39m, \u001b[38;5;124m'\u001b[39m\u001b[38;5;124mBob\u001b[39m\u001b[38;5;124m'\u001b[39m, \u001b[38;5;124m'\u001b[39m\u001b[38;5;124mCharli\u001b[39m\u001b[38;5;124m'\u001b[39m],\n\u001b[0;32m      4\u001b[0m         \u001b[38;5;124m'\u001b[39m\u001b[38;5;124mSubject\u001b[39m\u001b[38;5;124m'\u001b[39m: [\u001b[38;5;124m'\u001b[39m\u001b[38;5;124mMath\u001b[39m\u001b[38;5;124m'\u001b[39m, \u001b[38;5;124m'\u001b[39m\u001b[38;5;124mMath\u001b[39m\u001b[38;5;124m'\u001b[39m, \u001b[38;5;124m'\u001b[39m\u001b[38;5;124mMath\u001b[39m\u001b[38;5;124m'\u001b[39m, \u001b[38;5;124m'\u001b[39m\u001b[38;5;124mScience\u001b[39m\u001b[38;5;124m'\u001b[39m, \u001b[38;5;124m'\u001b[39m\u001b[38;5;124mScience\u001b[39m\u001b[38;5;124m'\u001b[39m, \u001b[38;5;124m'\u001b[39m\u001b[38;5;124mScience\u001b[39m\u001b[38;5;124m'\u001b[39m],\n\u001b[0;32m      5\u001b[0m         \u001b[38;5;124m'\u001b[39m\u001b[38;5;124mScore\u001b[39m\u001b[38;5;124m'\u001b[39m: [\u001b[38;5;241m80\u001b[39m, \u001b[38;5;241m56\u001b[39m, \u001b[38;5;241m78\u001b[39m, \u001b[38;5;241m90\u001b[39m, \u001b[38;5;241m88\u001b[39m, \u001b[38;5;241m92\u001b[39m]}\n\u001b[0;32m      7\u001b[0m df \u001b[38;5;241m=\u001b[39m pd\u001b[38;5;241m.\u001b[39mDataFrame(data)\n\u001b[1;32m----> 8\u001b[0m cross_tab\u001b[38;5;241m=\u001b[39mpd\u001b[38;5;241m.\u001b[39mcross_tab(index\u001b[38;5;241m=\u001b[39mdf[\u001b[38;5;124m'\u001b[39m\u001b[38;5;124mName\u001b[39m\u001b[38;5;124m'\u001b[39m],columns\u001b[38;5;241m=\u001b[39mdf[\u001b[38;5;124m'\u001b[39m\u001b[38;5;124mSubject\u001b[39m\u001b[38;5;124m'\u001b[39m],values\u001b[38;5;241m=\u001b[39mdf[\u001b[38;5;124m'\u001b[39m\u001b[38;5;124mScore\u001b[39m\u001b[38;5;124m'\u001b[39m],aggfunc\u001b[38;5;241m=\u001b[39m\u001b[38;5;124m'\u001b[39m\u001b[38;5;124mmean\u001b[39m\u001b[38;5;124m'\u001b[39m)\n\u001b[0;32m      9\u001b[0m \u001b[38;5;28mprint\u001b[39m(cross_tab)\n",
      "\u001b[1;31mAttributeError\u001b[0m: module 'pandas' has no attribute 'cross_tab'"
     ]
    }
   ],
   "source": [
    "import pandas as pd\n",
    "\n",
    "data = {'Name': ['Alice', 'Bob', 'Charlie', 'Alice', 'Bob', 'Charli'],\n",
    "        'Subject': ['Math', 'Math', 'Math', 'Science', 'Science', 'Science'],\n",
    "        'Score': [80, 56, 78, 90, 88, 92]}\n",
    "\n",
    "df = pd.DataFrame(data)\n",
    "cross_tab=pd.cross_tab(index=df['Name'],columns=df['Subject'],values=df['Score'],aggfunc='mean')\n",
    "print(cross_tab)\n"
   ]
  },
  {
   "cell_type": "code",
   "execution_count": 12,
   "id": "6853a440",
   "metadata": {},
   "outputs": [
    {
     "name": "stdout",
     "output_type": "stream",
     "text": [
      "Subject  Math  Science\n",
      "Name                  \n",
      "Alice    80.0     90.0\n",
      "Bob      56.0     88.0\n",
      "Charli    NaN     92.0\n",
      "Charlie  78.0      NaN\n"
     ]
    }
   ],
   "source": [
    "import pandas as pd\n",
    "\n",
    "data = {'Name': ['Alice', 'Bob', 'Charlie', 'Alice', 'Bob', 'Charli'],\n",
    "        'Subject': ['Math', 'Math', 'Math', 'Science', 'Science', 'Science'],\n",
    "        'Score': [80, 56, 78, 90, 88, 92]}\n",
    "\n",
    "df = pd.DataFrame(data)\n",
    "\n",
    "cross_tab = pd.crosstab(index=df['Name'], columns=df['Subject'], values=df['Score'], aggfunc='mean')\n",
    "print(cross_tab)\n"
   ]
  },
  {
   "cell_type": "code",
   "execution_count": 14,
   "id": "c080e2ef",
   "metadata": {},
   "outputs": [
    {
     "ename": "SyntaxError",
     "evalue": "leading zeros in decimal integer literals are not permitted; use an 0o prefix for octal integers (3875299394.py, line 1)",
     "output_type": "error",
     "traceback": [
      "\u001b[1;36m  Cell \u001b[1;32mIn[14], line 1\u001b[1;36m\u001b[0m\n\u001b[1;33m    data={'Date:['2022-01-01','2022=01=01','2022-01-02','2022-01-02'],\u001b[0m\n\u001b[1;37m                       ^\u001b[0m\n\u001b[1;31mSyntaxError\u001b[0m\u001b[1;31m:\u001b[0m leading zeros in decimal integer literals are not permitted; use an 0o prefix for octal integers\n"
     ]
    }
   ],
   "source": [
    "data={'Date:['2022-01-01','2022=01=01','2022-01-02','2022-01-02'],\n",
    "      'City':['A','B','A','B'],\n",
    "      'Temperature':[25,30,22,28],\n",
    "      'Humidity':[50,60,45,55]}\n",
    "df=pd.DataFrame(data)\n",
    "pivot=df.pivot(index='Date',columns='City',values=['Temperature','Humidity'])\n",
    "pivot"
   ]
  },
  {
   "cell_type": "code",
   "execution_count": 15,
   "id": "bb6264a2",
   "metadata": {},
   "outputs": [
    {
     "name": "stdout",
     "output_type": "stream",
     "text": [
      "           Temperature     Humidity    \n",
      "City                 A   B        A   B\n",
      "Date                                   \n",
      "2022-01-01          25  30       50  60\n",
      "2022-01-02          22  28       45  55\n"
     ]
    }
   ],
   "source": [
    "import pandas as pd\n",
    "\n",
    "data = {'Date': ['2022-01-01', '2022-01-01', '2022-01-02', '2022-01-02'],\n",
    "        'City': ['A', 'B', 'A', 'B'],\n",
    "        'Temperature': [25, 30, 22, 28],\n",
    "        'Humidity': [50, 60, 45, 55]}\n",
    "\n",
    "df = pd.DataFrame(data)\n",
    "pivot = df.pivot(index='Date', columns='City', values=['Temperature', 'Humidity'])\n",
    "print(pivot)"
   ]
  },
  {
   "cell_type": "code",
   "execution_count": 21,
   "id": "22bc2503",
   "metadata": {},
   "outputs": [
    {
     "name": "stdout",
     "output_type": "stream",
     "text": [
      "Department     HR     IT\n",
      "Gender                  \n",
      "Female      70000  60000\n",
      "Male        50000  55000\n"
     ]
    }
   ],
   "source": [
    "import pandas as pd\n",
    "\n",
    "data = {'Gender': ['Male', 'Female', 'Male', 'Female'],\n",
    "        'Department': ['HR', 'IT', 'IT', 'HR'],\n",
    "        'Salary': [50000, 60000, 55000, 70000]}\n",
    "\n",
    "df = pd.DataFrame(data)\n",
    "\n",
    "cross_tab = pd.crosstab(index=df['Gender'], columns=df['Department'], values=df['Salary'], aggfunc='mean')\n",
    "print(cross_tab)\n"
   ]
  },
  {
   "cell_type": "code",
   "execution_count": null,
   "id": "5e9851b9",
   "metadata": {},
   "outputs": [],
   "source": []
  }
 ],
 "metadata": {
  "kernelspec": {
   "display_name": "Python 3 (ipykernel)",
   "language": "python",
   "name": "python3"
  },
  "language_info": {
   "codemirror_mode": {
    "name": "ipython",
    "version": 3
   },
   "file_extension": ".py",
   "mimetype": "text/x-python",
   "name": "python",
   "nbconvert_exporter": "python",
   "pygments_lexer": "ipython3",
   "version": "3.11.5"
  }
 },
 "nbformat": 4,
 "nbformat_minor": 5
}
