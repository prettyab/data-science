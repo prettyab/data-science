{
 "cells": [
  {
   "cell_type": "code",
   "execution_count": 4,
   "id": "688ab422",
   "metadata": {},
   "outputs": [
    {
     "name": "stdout",
     "output_type": "stream",
     "text": [
      "{'Name': ['John', 'Anna', 'Peter', 'Linda', 'Jake'], 'Age': [25, 35, None, 28, 40], 'Gender': ['M', 'F', 'M', 'F', 'M'], 'Income': [50000, 60000, 70000, None, 55000]}\n"
     ]
    },
    {
     "data": {
      "text/html": [
       "<div>\n",
       "<style scoped>\n",
       "    .dataframe tbody tr th:only-of-type {\n",
       "        vertical-align: middle;\n",
       "    }\n",
       "\n",
       "    .dataframe tbody tr th {\n",
       "        vertical-align: top;\n",
       "    }\n",
       "\n",
       "    .dataframe thead th {\n",
       "        text-align: right;\n",
       "    }\n",
       "</style>\n",
       "<table border=\"1\" class=\"dataframe\">\n",
       "  <thead>\n",
       "    <tr style=\"text-align: right;\">\n",
       "      <th></th>\n",
       "      <th>Name</th>\n",
       "      <th>Age</th>\n",
       "      <th>Gender</th>\n",
       "      <th>Income</th>\n",
       "    </tr>\n",
       "  </thead>\n",
       "  <tbody>\n",
       "    <tr>\n",
       "      <th>0</th>\n",
       "      <td>John</td>\n",
       "      <td>25.0</td>\n",
       "      <td>0</td>\n",
       "      <td>50000.0</td>\n",
       "    </tr>\n",
       "    <tr>\n",
       "      <th>1</th>\n",
       "      <td>Anna</td>\n",
       "      <td>35.0</td>\n",
       "      <td>1</td>\n",
       "      <td>60000.0</td>\n",
       "    </tr>\n",
       "    <tr>\n",
       "      <th>2</th>\n",
       "      <td>Peter</td>\n",
       "      <td>32.0</td>\n",
       "      <td>0</td>\n",
       "      <td>70000.0</td>\n",
       "    </tr>\n",
       "    <tr>\n",
       "      <th>3</th>\n",
       "      <td>Linda</td>\n",
       "      <td>28.0</td>\n",
       "      <td>1</td>\n",
       "      <td>57500.0</td>\n",
       "    </tr>\n",
       "    <tr>\n",
       "      <th>4</th>\n",
       "      <td>Jake</td>\n",
       "      <td>40.0</td>\n",
       "      <td>0</td>\n",
       "      <td>55000.0</td>\n",
       "    </tr>\n",
       "  </tbody>\n",
       "</table>\n",
       "</div>"
      ],
      "text/plain": [
       "    Name   Age  Gender   Income\n",
       "0   John  25.0       0  50000.0\n",
       "1   Anna  35.0       1  60000.0\n",
       "2  Peter  32.0       0  70000.0\n",
       "3  Linda  28.0       1  57500.0\n",
       "4   Jake  40.0       0  55000.0"
      ]
     },
     "execution_count": 4,
     "metadata": {},
     "output_type": "execute_result"
    }
   ],
   "source": [
    "import pandas as pd\n",
    "\n",
    "# Sample dataset\n",
    "data = {\n",
    "    'Name': ['John', 'Anna', 'Peter', 'Linda', 'Jake'],\n",
    "    'Age': [25, 35, None, 28, 40],\n",
    "    'Gender': ['M', 'F', 'M', 'F', 'M'],\n",
    "    'Income': [50000, 60000, 70000, None, 55000]\n",
    "}\n",
    "print(data)\n",
    "# Create a DataFrame\n",
    "df = pd.DataFrame(data)\n",
    "df\n",
    "# # Data Cleaning: Handling Missing Values\n",
    "df['Age'].fillna(df['Age'].mean(), inplace=True)  # Fill missing Age values with mean\n",
    "df\n",
    "df['Income'].fillna(df['Income'].median(), inplace=True)  # Fill missing Income values with median\n",
    "df\n",
    "# # Data Transformation: Convert categorical Gender variable to numerical\n",
    "df['Gender'] = df['Gender'].map({'M': 0, 'F': 1})\n",
    "df\n",
    "\n",
    "\n"
   ]
  },
  {
   "cell_type": "code",
   "execution_count": 6,
   "id": "e74c7b2f",
   "metadata": {},
   "outputs": [
    {
     "name": "stdout",
     "output_type": "stream",
     "text": [
      "Original Data:\n",
      "0      Male\n",
      "1    Female\n",
      "2    Female\n",
      "3      Male\n",
      "4      Male\n",
      "Name: Gender, dtype: object\n",
      "\n",
      "Label Encoded Data:\n",
      "0    1\n",
      "1    0\n",
      "2    0\n",
      "3    1\n",
      "4    1\n",
      "Name: Gender_LabelEncoded, dtype: int32\n"
     ]
    }
   ],
   "source": [
    "from sklearn.preprocessing import LabelEncoder\n",
    "\n",
    "# Sample dataset\n",
    "data = {\n",
    "    'Gender': ['Male', 'Female', 'Female', 'Male', 'Male']\n",
    "}\n",
    "\n",
    "# Create a DataFrame\n",
    "df = pd.DataFrame(data)\n",
    "\n",
    "# Initialize LabelEncoder\n",
    "label_encoder = LabelEncoder()\n",
    "\n",
    "# Label encode the 'Gender' column\n",
    "df['Gender_LabelEncoded'] = label_encoder.fit_transform(df['Gender'])\n",
    "\n",
    "# Display original and label encoded data\n",
    "print(\"Original Data:\")\n",
    "print(df['Gender'])\n",
    "\n",
    "print(\"\\nLabel Encoded Data:\")\n",
    "print(df['Gender_LabelEncoded'])\n"
   ]
  },
  {
   "cell_type": "code",
   "execution_count": null,
   "id": "bdbe5ae0",
   "metadata": {},
   "outputs": [],
   "source": []
  }
 ],
 "metadata": {
  "kernelspec": {
   "display_name": "Python 3 (ipykernel)",
   "language": "python",
   "name": "python3"
  },
  "language_info": {
   "codemirror_mode": {
    "name": "ipython",
    "version": 3
   },
   "file_extension": ".py",
   "mimetype": "text/x-python",
   "name": "python",
   "nbconvert_exporter": "python",
   "pygments_lexer": "ipython3",
   "version": "3.11.5"
  }
 },
 "nbformat": 4,
 "nbformat_minor": 5
}
