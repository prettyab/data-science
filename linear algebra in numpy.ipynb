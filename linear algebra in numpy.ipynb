{
 "cells": [
  {
   "cell_type": "code",
   "execution_count": 1,
   "id": "8bd15c78",
   "metadata": {},
   "outputs": [
    {
     "name": "stdout",
     "output_type": "stream",
     "text": [
      "[[ 33  40  19]\n",
      " [ 75  94  55]\n",
      " [117 148  91]]\n"
     ]
    }
   ],
   "source": [
    "import numpy as np\n",
    "a=np.array([[1,2,3],[4,5,6],[7,8,9]])\n",
    "b=np.array([[2,4,5],[5,6,7],[7,8,0]])\n",
    "result_dot=np.dot(a,b)\n",
    "print(result_dot)\n"
   ]
  },
  {
   "cell_type": "code",
   "execution_count": 4,
   "id": "25f274f7",
   "metadata": {},
   "outputs": [
    {
     "name": "stdout",
     "output_type": "stream",
     "text": [
      "[[1 4]\n",
      " [2 5]\n",
      " [3 6]]\n"
     ]
    }
   ],
   "source": [
    "#transpose\n",
    "import numpy as np\n",
    "a=np.array([[1,2,3],[4,5,6]])\n",
    "a_transpose=a.T\n",
    "print(a_transpose)"
   ]
  },
  {
   "cell_type": "code",
   "execution_count": 6,
   "id": "f2d9f414",
   "metadata": {},
   "outputs": [
    {
     "data": {
      "text/plain": [
       "-9.51619735392994e-16"
      ]
     },
     "execution_count": 6,
     "metadata": {},
     "output_type": "execute_result"
    }
   ],
   "source": [
    "#determinant\n",
    "import numpy as  np\n",
    "a=([[1,2,3],[4,5,6],[7,8,9]])\n",
    "det_a=np.linalg.det(a)\n",
    "det_a\n"
   ]
  },
  {
   "cell_type": "code",
   "execution_count": null,
   "id": "d3406abf",
   "metadata": {},
   "outputs": [],
   "source": [
    "# "
   ]
  }
 ],
 "metadata": {
  "kernelspec": {
   "display_name": "Python 3 (ipykernel)",
   "language": "python",
   "name": "python3"
  },
  "language_info": {
   "codemirror_mode": {
    "name": "ipython",
    "version": 3
   },
   "file_extension": ".py",
   "mimetype": "text/x-python",
   "name": "python",
   "nbconvert_exporter": "python",
   "pygments_lexer": "ipython3",
   "version": "3.11.5"
  }
 },
 "nbformat": 4,
 "nbformat_minor": 5
}
